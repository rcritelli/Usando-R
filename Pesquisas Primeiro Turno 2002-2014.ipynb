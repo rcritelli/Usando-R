{
 "cells": [
  {
   "cell_type": "markdown",
   "metadata": {},
   "source": [
    "## Pesquisas eleitorais no primeiro turno e o resultado das eleições no período de 2002-2014\n",
    "\n",
    "\n",
    "Apesar da grande polarização e aparente efeito manada ([bandwagon](https://en.wikipedia.org/wiki/Bandwagon_effect)) em sua reta final, a eleição presidencial de 2018 é a mais fragmentada [desde 1989](https://www.bbc.com/portuguese/brasil-45661559). Naquele ano, Collor e Lula foram para o segundo turno com apenas metade dos votos dos brasileiros. Agora, pelas pesquisas eleitorais mais recentes, Bolsonaro e Haddad também possuem aproximadamente metade dos votos dos brasileiros. Mas podemos confiar que o resultado das urnas vai refletir o descrito nas pesquisas?\n",
    "\n",
    "Todas as pesquisas relativas às eleições devem ser registradas junto à Justiça Eleitoral, com informações sobre metodologia, plano amostral, sistema interno de controle, dados básicos como intervalos de confiança e margem de erro sempre devem ser divulgados (cf. art. 33 da [Lei nº 9.504/1997](http://www.tse.jus.br/legislacao/codigo-eleitoral/lei-das-eleicoes/lei-das-eleicoes-lei-nb0-9.504-de-30-de-setembro-de-1997#art33-35)). A divulgação de pesquisa fraudulenta é crime.\n",
    "\n",
    "Para além dos detalhes e controles realizados, podemos fazer um exercício: comparar o resultado das últimas eleições com o cenário descrito pelas pesquisas de véspera de eleição. Para isso, utilizamos dados das pesquisas de véspera do Instituto Datafolha, um dos mais respeitados institutos de pesquisa do Brasil.\n",
    "\n",
    "Na comparação, realizada para o período de 2002 a 2014, a maior parte dos resultados apurados ficou dentro ou próximo da margem de erro de dois pontos percentuais. O destaque negativo vai para 2014, em que os votos obtidos por Aécio ficaram muito acima do previsto pelo Datafolha. Os votos de Dilma e Marina também ficaram fora da margem de erro. Este \"erro\" também foi replicado pelo Ibope, numa indicação de que o cenário pode realmente ter se modificado por algum motivo, mas também que os métodos utilizados podem não ter sido adequados, ainda mais quando a pesquisa boca de urna do Ibope, que ouviu 64 mil eleitores, também diferiu significativamente do resultado final.\n",
    "O ano de 2014 teve um cenário relativamente mais dinâmico no plano nacional, mas as pesquisas também apresentaram erros bastante significativos nos estados.\n",
    "\n",
    "https://epoca.globo.com/tempo/eleicoes/noticia/2014/10/por-que-bpesquisas-eleitoraisb-se-distanciam-tanto-da-realidade.html\n",
    "\n",
    "https://noticias.r7.com/eleicoes-2014/pesquisas-erram-na-previsao-e-resultados-nas-urnas-surpreendem-eleitores-brasileiros-06102014\n",
    "\n",
    "Novamente, fica a pergunta: como será neste 2018 tão complicado? A conferir :)"
   ]
  },
  {
   "cell_type": "markdown",
   "metadata": {},
   "source": [
    "### Procedimentos\n",
    "\n",
    "Os dados das pesquisas eleitorais foram extraídos do [Agregador de Pesquisas do site Poder 360](https://www.poder360.com.br/pesquisas-de-opiniao/).\n",
    "Os resultados das apurações eleitorais foram retirados da [Wikipedia](https://pt.wikipedia.org/wiki/Lista_de_elei%C3%A7%C3%B5es_presidenciais_no_Brasil), com checagem de parte dos dados no site do TSE.\n",
    "\n",
    "Como o volume de dados é bastante reduzido, e a análise pretendida, bastante simples, todo o trabalho poderia ser realizado rapidamente e sem problemas em uma planilha de Excel. Entretanto, o objetivo deste estudo é também praticar procedimentos de processamento de dados na linguagem R. Por isso, uma consolidação inicial foi feita em planilha Excel e os dados exportados em formato csv.\n",
    "\n",
    "De posse dos dados pré-organizados, vamos então fazer uma comparação entre o previsto nas pesquisas e o resultado nas urnas. Para a série histórica, vamos apresentar graficamente as maiores diferenças observadas. Para isso construiremos dois gráficos: um mostrando a diferença entre os percentuais de votos totais, e outro gráfico mostrando a diferença em termos de votos válidos. \n",
    "Utilizaremos os pacotes do [Tidyverse](www.tidyverse.org/), como readr, dplyr e ggplot2."
   ]
  },
  {
   "cell_type": "code",
   "execution_count": 1,
   "metadata": {},
   "outputs": [
    {
     "name": "stderr",
     "output_type": "stream",
     "text": [
      "-- Attaching packages --------------------------------------- tidyverse 1.2.1 --\n",
      "v ggplot2 2.2.1     v purrr   0.2.4\n",
      "v tibble  1.4.1     v dplyr   0.7.4\n",
      "v tidyr   0.7.2     v stringr 1.2.0\n",
      "v readr   1.1.1     v forcats 0.2.0\n",
      "-- Conflicts ------------------------------------------ tidyverse_conflicts() --\n",
      "x dplyr::filter() masks stats::filter()\n",
      "x dplyr::lag()    masks stats::lag()\n",
      "Using ',' as decimal and '.' as grouping mark. Use read_delim() for more control.\n",
      "Parsed with column specification:\n",
      "cols(\n",
      "  CANDIDATO = col_character(),\n",
      "  ID = col_character(),\n",
      "  Partido = col_character(),\n",
      "  ANO = col_integer(),\n",
      "  TOTAL = col_integer(),\n",
      "  `%V/VV` = col_double(),\n",
      "  `%simples` = col_double(),\n",
      "  `DataF%VV` = col_double(),\n",
      "  `DataF%simples` = col_integer(),\n",
      "  Margem = col_integer(),\n",
      "  `PD ref` = col_character()\n",
      ")\n"
     ]
    },
    {
     "data": {
      "text/html": [
       "<table>\n",
       "<thead><tr><th scope=col>CANDIDATO</th><th scope=col>ID</th><th scope=col>Partido</th><th scope=col>ANO</th><th scope=col>TOTAL</th><th scope=col>%V/VV</th><th scope=col>%simples</th><th scope=col>DataF%VV</th><th scope=col>DataF%simples</th><th scope=col>Margem</th><th scope=col>PD ref</th></tr></thead>\n",
       "<tbody>\n",
       "\t<tr><td>Luiz Inácio Lula da Silva</td><td>Lula-02                  </td><td>PT                       </td><td>2002                     </td><td>39455233                 </td><td>46.44386855              </td><td>41.61841724              </td><td>48                       </td><td>45                       </td><td>NA                       </td><td>4-5/out/02               </td></tr>\n",
       "\t<tr><td>José Serra               </td><td>Serra-02                 </td><td>PSDB                     </td><td>2002                     </td><td>19705445                 </td><td>23.19583557              </td><td>20.78582154              </td><td>21                       </td><td>19                       </td><td>NA                       </td><td>4-5/out/02               </td></tr>\n",
       "\t<tr><td>Anthony Garotinho        </td><td>Garotinho-02             </td><td>PPS                      </td><td>2002                     </td><td>15180097                 </td><td>17.86892070              </td><td>16.01236548              </td><td>19                       </td><td>17                       </td><td>NA                       </td><td>4-5/out/02               </td></tr>\n",
       "\t<tr><td>Ciro Gomes               </td><td>Ciro-02                  </td><td>PSB                      </td><td>2002                     </td><td>10170882                 </td><td>11.97243232              </td><td>10.72851378              </td><td>12                       </td><td>11                       </td><td>NA                       </td><td>4-5/out/02               </td></tr>\n",
       "\t<tr><td>José Maria de Almeida    </td><td>ZéMaria-02               </td><td>PSTU                     </td><td>2002                     </td><td>  402236                 </td><td> 0.47348335              </td><td> 0.42428911              </td><td> 1                       </td><td> 1                       </td><td>NA                       </td><td>4-5/out/02               </td></tr>\n",
       "\t<tr><td>Rui Costa Pimenta        </td><td>Rui-02                   </td><td>PCO                      </td><td>2002                     </td><td>   38619                 </td><td> 0.04545951              </td><td> 0.04073634              </td><td> 0                       </td><td> 0                       </td><td>NA                       </td><td>4-5/out/02               </td></tr>\n",
       "</tbody>\n",
       "</table>\n"
      ],
      "text/latex": [
       "\\begin{tabular}{r|lllllllllll}\n",
       " CANDIDATO & ID & Partido & ANO & TOTAL & \\%V/VV & \\%simples & DataF\\%VV & DataF\\%simples & Margem & PD ref\\\\\n",
       "\\hline\n",
       "\t Luiz Inácio Lula da Silva & Lula-02                   & PT                        & 2002                      & 39455233                  & 46.44386855               & 41.61841724               & 48                        & 45                        & NA                        & 4-5/out/02               \\\\\n",
       "\t José Serra                & Serra-02                  & PSDB                      & 2002                      & 19705445                  & 23.19583557               & 20.78582154               & 21                        & 19                        & NA                        & 4-5/out/02               \\\\\n",
       "\t Anthony Garotinho         & Garotinho-02              & PPS                       & 2002                      & 15180097                  & 17.86892070               & 16.01236548               & 19                        & 17                        & NA                        & 4-5/out/02               \\\\\n",
       "\t Ciro Gomes                & Ciro-02                   & PSB                       & 2002                      & 10170882                  & 11.97243232               & 10.72851378               & 12                        & 11                        & NA                        & 4-5/out/02               \\\\\n",
       "\t José Maria de Almeida     & ZéMaria-02                & PSTU                      & 2002                      &   402236                  &  0.47348335               &  0.42428911               &  1                        &  1                        & NA                        & 4-5/out/02               \\\\\n",
       "\t Rui Costa Pimenta         & Rui-02                    & PCO                       & 2002                      &    38619                  &  0.04545951               &  0.04073634               &  0                        &  0                        & NA                        & 4-5/out/02               \\\\\n",
       "\\end{tabular}\n"
      ],
      "text/markdown": [
       "\n",
       "CANDIDATO | ID | Partido | ANO | TOTAL | %V/VV | %simples | DataF%VV | DataF%simples | Margem | PD ref | \n",
       "|---|---|---|---|---|---|\n",
       "| Luiz Inácio Lula da Silva | Lula-02                   | PT                        | 2002                      | 39455233                  | 46.44386855               | 41.61841724               | 48                        | 45                        | NA                        | 4-5/out/02                | \n",
       "| José Serra                | Serra-02                  | PSDB                      | 2002                      | 19705445                  | 23.19583557               | 20.78582154               | 21                        | 19                        | NA                        | 4-5/out/02                | \n",
       "| Anthony Garotinho         | Garotinho-02              | PPS                       | 2002                      | 15180097                  | 17.86892070               | 16.01236548               | 19                        | 17                        | NA                        | 4-5/out/02                | \n",
       "| Ciro Gomes                | Ciro-02                   | PSB                       | 2002                      | 10170882                  | 11.97243232               | 10.72851378               | 12                        | 11                        | NA                        | 4-5/out/02                | \n",
       "| José Maria de Almeida     | ZéMaria-02                | PSTU                      | 2002                      |   402236                  |  0.47348335               |  0.42428911               |  1                        |  1                        | NA                        | 4-5/out/02                | \n",
       "| Rui Costa Pimenta         | Rui-02                    | PCO                       | 2002                      |    38619                  |  0.04545951               |  0.04073634               |  0                        |  0                        | NA                        | 4-5/out/02                | \n",
       "\n",
       "\n"
      ],
      "text/plain": [
       "  CANDIDATO                 ID           Partido ANO  TOTAL    %V/VV      \n",
       "1 Luiz Inácio Lula da Silva Lula-02      PT      2002 39455233 46.44386855\n",
       "2 José Serra                Serra-02     PSDB    2002 19705445 23.19583557\n",
       "3 Anthony Garotinho         Garotinho-02 PPS     2002 15180097 17.86892070\n",
       "4 Ciro Gomes                Ciro-02      PSB     2002 10170882 11.97243232\n",
       "5 José Maria de Almeida     ZéMaria-02   PSTU    2002   402236  0.47348335\n",
       "6 Rui Costa Pimenta         Rui-02       PCO     2002    38619  0.04545951\n",
       "  %simples    DataF%VV DataF%simples Margem PD ref    \n",
       "1 41.61841724 48       45            NA     4-5/out/02\n",
       "2 20.78582154 21       19            NA     4-5/out/02\n",
       "3 16.01236548 19       17            NA     4-5/out/02\n",
       "4 10.72851378 12       11            NA     4-5/out/02\n",
       "5  0.42428911  1        1            NA     4-5/out/02\n",
       "6  0.04073634  0        0            NA     4-5/out/02"
      ]
     },
     "metadata": {},
     "output_type": "display_data"
    }
   ],
   "source": [
    "library(tidyverse)\n",
    "\n",
    "ele_df <- read_csv2(\"Resultados-DF-1T.csv\")\n",
    "\n",
    "head(ele_df)"
   ]
  },
  {
   "cell_type": "code",
   "execution_count": 5,
   "metadata": {},
   "outputs": [],
   "source": [
    "# Tendo em vista a análise que será feita, vamos retirar linhas de branco e nulos, que podem\n",
    "# atrapalhar comparações, e prosseguir com pipe selecionando apenas as variáveis (colunas)\n",
    "# de interesse e criando duas novas colunas de comparação pesquisa-resultado: uma para  \n",
    "# percentual de votos totais e outra em relação a votos válidos.\n",
    "ele_ed <- filter(ele_df, CANDIDATO != \"BRANCO\", CANDIDATO != \"NULOS\") %>% \n",
    "         select(ID, Partido, ANO, \"%V/VV\", \"%simples\", \"DataF%VV\", \"DataF%simples\") %>% \n",
    "         mutate(Diff_simples = `%simples` - `DataF%simples`,\n",
    "                Diff_validos = `%V/VV` - `DataF%VV`)\n",
    "\n",
    "\n",
    "# Como vamos criar dois gráficos, um baseado em Diff_simples e outro em Diff_validos,\n",
    "# vamos criar duas tbls: cada uma ordenada pelo valor absoluto da variável de interesse\n",
    "\n",
    "bydiffsimples <- arrange(ele_ed, desc(abs(Diff_simples)))\n",
    "\n",
    "bydiffvalidos <- arrange(ele_ed, desc(abs(Diff_validos)))"
   ]
  },
  {
   "cell_type": "markdown",
   "metadata": {},
   "source": [
    "Com os dados editados e organizados, podemos construir os gráficos.\n",
    "\n",
    "Mas antes um detalhe importante: o \"ID\" dos candidatos será utilizado como a variável categórica no eixo x. Deste modo, o gráfico construído terá os IDs ordenados em ordem alfabética. Entretanto, queremos que os IDs estejam ordenados pelo valor correspondente de Diff_simples ou Diff_validos. Para isto, vamos criar uma nova variável ID2 explicitando sua ordenação pelo valor correspondente da diferença entre pesquisa e resultado da urna. "
   ]
  },
  {
   "cell_type": "code",
   "execution_count": 6,
   "metadata": {},
   "outputs": [
    {
     "data": {},
     "metadata": {},
     "output_type": "display_data"
    },
    {
     "data": {},
     "metadata": {},
     "output_type": "display_data"
    },
    {
     "data": {
      "image/png": "[encoded data removed]",
      "text/plain": [
       "plot without title"
      ]
     },
     "metadata": {},
     "output_type": "display_data"
    },
    {
     "data": {
      "image/png": "[encoded data removed]",
      "text/plain": [
       "plot without title"
      ]
     },
     "metadata": {},
     "output_type": "display_data"
    }
   ],
   "source": [
    "bydiffsimples$ID2 <- reorder(bydiffsimples$ID, -bydiffsimples$Diff_simples)\n",
    "bydiffvalidos$ID2 <- reorder(bydiffvalidos$ID, -bydiffvalidos$Diff_validos)\n",
    "\n",
    "\n",
    "# Definindo parâmetros gerais de tamanho e tema dos gráficos\n",
    "options(repr.plot.width=5, repr.plot.height=3.75)\n",
    "tema <- theme_light() +\n",
    "        theme(panel.grid.minor = element_blank(), panel.grid.major.x = element_blank(),\n",
    "        plot.caption = element_text(size = 7, margin = margin(t = 13, unit = \"pt\")),\n",
    "        legend.position = \"none\", plot.title = element_text(hjust = 0.5, size = 11),\n",
    "        axis.text.y = element_text(size = 9))\n",
    "\n",
    "\n",
    "ggplot(bydiffsimples[1:6,], aes(x = ID2, y = Diff_simples)) +\n",
    "  geom_col(aes(fill = Partido)) +\n",
    "  geom_hline(mapping, yintercept =  2, color = \"gray50\") +\n",
    "  geom_hline(mapping, yintercept =  -2, color = \"gray50\") +\n",
    "  scale_x_discrete(name = \"Candidato-Ano\") +\n",
    "  scale_y_continuous(name = \"Apuração(%) - Pesquisa(%)\", limits = c(-6.5,6.5),\n",
    "                     breaks = seq(-6,6,2)) +\n",
    "  scale_fill_manual(values = c(\"steelblue3\",\"firebrick1\",\"limegreen\")) +\n",
    "  labs(title = \"Maiores diferenças entre resultado das urnas e última pesquisa\n",
    "       Datafolha (Primeiro Turno, período 2002-2014)\",\n",
    "       caption = \"Fontes: Agregador de Pesquisas Eleitorais do Poder 360 e \n",
    "       https://pt.wikipedia.org/wiki/Lista_de_eleições_presidenciais_no_Brasil\") +\n",
    "  tema\n",
    "\n",
    "ggplot(bydiffvalidos[1:6,], aes(x = ID2, y = Diff_validos)) +\n",
    "  geom_col(aes(fill = Partido)) +\n",
    "  scale_x_discrete(name = \"Candidato-Ano\") +\n",
    "  scale_y_continuous(name = \"Apuração(%vv) - Pesquisa(%vv)\", limits = c(-6,8),\n",
    "                     breaks = seq(-6,8,2)) +\n",
    "  scale_fill_manual(values = c(\"steelblue3\",\"firebrick1\",\"limegreen\", \"limegreen\")) +\n",
    "  labs(title = \"Votos Válidos: maiores diferenças entre resultado das urnas e última\n",
    "       pesquisa Datafolha (Votos válidos no primeiro turno, 2002-2014)\",\n",
    "       caption = \"Fontes: Agregador de Pesquisas Eleitorais do Poder 360 e \n",
    "       https://pt.wikipedia.org/wiki/Lista_de_eleições_presidenciais_no_Brasil\") +\n",
    "  tema\n"
   ]
  }
 ],
 "metadata": {
  "kernelspec": {
   "display_name": "R",
   "language": "R",
   "name": "ir"
  },
  "language_info": {
   "codemirror_mode": "r",
   "file_extension": ".r",
   "mimetype": "text/x-r-source",
   "name": "R",
   "pygments_lexer": "r",
   "version": "3.4.3"
  }
 },
 "nbformat": 4,
 "nbformat_minor": 2
}
