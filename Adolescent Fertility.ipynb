{
 "cells": [
  {
   "cell_type": "markdown",
   "metadata": {},
   "source": [
    "# Visualizando taxas de fertilidade adolescente no Brasil e no Mundo\n",
    "\n",
    "Vamos obter informações sobre como a taxa de fertilidade adolescente evoluiu nas últimas décadas e como ela varia entre diferentes grupos de países.\n",
    "\n",
    "Os dados foram obtidos do site do Banco Mundial, na base de dados referentes a estudos (estatísticas) de gênero.\n",
    "https://datacatalog.worldbank.org/dataset/gender-statistics (World Bank Gender Statistics Dataset).\n",
    "\n",
    "Estamos interessados no indicador **SP.ADO.TFRT**, que é a taxa de fertilidade adolescente. Esta é definida pelo número de nascimentos por ano para 1000 mulheres com idade entre 15 e 19 anos (Adolescent fertility rate is the number of births per 1,000 women ages 15-19)."
   ]
  },
  {
   "cell_type": "code",
   "execution_count": 2,
   "metadata": {},
   "outputs": [
    {
     "name": "stderr",
     "output_type": "stream",
     "text": [
      "Warning message:\n",
      "\"Missing column names filled in: 'X63' [63]\"Parsed with column specification:\n",
      "cols(\n",
      "  .default = col_double(),\n",
      "  `Country Name` = col_character(),\n",
      "  `Country Code` = col_character(),\n",
      "  `Indicator Name` = col_character(),\n",
      "  `Indicator Code` = col_character(),\n",
      "  X63 = col_character()\n",
      ")\n",
      "See spec(...) for full column specifications.\n"
     ]
    },
    {
     "data": {
      "text/html": [
       "<table>\n",
       "<thead><tr><th scope=col>Country Name</th><th scope=col>Country Code</th><th scope=col>Indicator Name</th><th scope=col>Indicator Code</th><th scope=col>1960</th><th scope=col>1961</th><th scope=col>1962</th><th scope=col>1963</th><th scope=col>1964</th><th scope=col>1965</th><th scope=col>...</th><th scope=col>2009</th><th scope=col>2010</th><th scope=col>2011</th><th scope=col>2012</th><th scope=col>2013</th><th scope=col>2014</th><th scope=col>2015</th><th scope=col>2016</th><th scope=col>2017</th><th scope=col>X63</th></tr></thead>\n",
       "<tbody>\n",
       "\t<tr><td>Arab World                                                   </td><td>ARB                                                          </td><td>Adolescent fertility rate (births per 1,000 women ages 15-19)</td><td>SP.ADO.TFRT                                                  </td><td>134.22361                                                    </td><td>134.83863                                                    </td><td>135.57090                                                    </td><td>135.4446                                                     </td><td>135.27490                                                    </td><td>134.9472                                                     </td><td>...                                                          </td><td>50.10461                                                     </td><td>49.90012                                                     </td><td>49.72376                                                     </td><td>49.53907                                                     </td><td>49.11124                                                     </td><td>48.64754                                                     </td><td>48.11455                                                     </td><td>47.44007                                                     </td><td>NA                                                           </td><td>NA                                                           </td></tr>\n",
       "\t<tr><td>Caribbean small states                                       </td><td>CSS                                                          </td><td>Adolescent fertility rate (births per 1,000 women ages 15-19)</td><td>SP.ADO.TFRT                                                  </td><td>146.74378                                                    </td><td>146.90023                                                    </td><td>147.06916                                                    </td><td>145.6199                                                     </td><td>144.30854                                                    </td><td>143.0531                                                     </td><td>...                                                          </td><td>61.54816                                                     </td><td>60.28361                                                     </td><td>58.97198                                                     </td><td>57.57641                                                     </td><td>56.43608                                                     </td><td>55.25676                                                     </td><td>54.05761                                                     </td><td>52.80647                                                     </td><td>NA                                                           </td><td>NA                                                           </td></tr>\n",
       "\t<tr><td>Central Europe and the Baltics                               </td><td>CEB                                                          </td><td>Adolescent fertility rate (births per 1,000 women ages 15-19)</td><td>SP.ADO.TFRT                                                  </td><td> 46.09934                                                    </td><td> 45.42201                                                    </td><td> 44.70266                                                    </td><td> 44.9639                                                     </td><td> 45.19137                                                    </td><td> 45.4119                                                     </td><td>...                                                          </td><td>21.61264                                                     </td><td>21.24941                                                     </td><td>20.94254                                                     </td><td>20.69047                                                     </td><td>20.38378                                                     </td><td>20.09069                                                     </td><td>19.78258                                                     </td><td>19.45588                                                     </td><td>NA                                                           </td><td>NA                                                           </td></tr>\n",
       "</tbody>\n",
       "</table>\n"
      ],
      "text/latex": [
       "\\begin{tabular}{r|lllllllllllllllllllllllllllllllllllllllllllllllllllllllllllllll}\n",
       " Country Name & Country Code & Indicator Name & Indicator Code & 1960 & 1961 & 1962 & 1963 & 1964 & 1965 & ... & 2009 & 2010 & 2011 & 2012 & 2013 & 2014 & 2015 & 2016 & 2017 & X63\\\\\n",
       "\\hline\n",
       "\t Arab World                                                    & ARB                                                           & Adolescent fertility rate (births per 1,000 women ages 15-19) & SP.ADO.TFRT                                                   & 134.22361                                                     & 134.83863                                                     & 135.57090                                                     & 135.4446                                                      & 135.27490                                                     & 134.9472                                                      & ...                                                           & 50.10461                                                      & 49.90012                                                      & 49.72376                                                      & 49.53907                                                      & 49.11124                                                      & 48.64754                                                      & 48.11455                                                      & 47.44007                                                      & NA                                                            & NA                                                           \\\\\n",
       "\t Caribbean small states                                        & CSS                                                           & Adolescent fertility rate (births per 1,000 women ages 15-19) & SP.ADO.TFRT                                                   & 146.74378                                                     & 146.90023                                                     & 147.06916                                                     & 145.6199                                                      & 144.30854                                                     & 143.0531                                                      & ...                                                           & 61.54816                                                      & 60.28361                                                      & 58.97198                                                      & 57.57641                                                      & 56.43608                                                      & 55.25676                                                      & 54.05761                                                      & 52.80647                                                      & NA                                                            & NA                                                           \\\\\n",
       "\t Central Europe and the Baltics                                & CEB                                                           & Adolescent fertility rate (births per 1,000 women ages 15-19) & SP.ADO.TFRT                                                   &  46.09934                                                     &  45.42201                                                     &  44.70266                                                     &  44.9639                                                      &  45.19137                                                     &  45.4119                                                      & ...                                                           & 21.61264                                                      & 21.24941                                                      & 20.94254                                                      & 20.69047                                                      & 20.38378                                                      & 20.09069                                                      & 19.78258                                                      & 19.45588                                                      & NA                                                            & NA                                                           \\\\\n",
       "\\end{tabular}\n"
      ],
      "text/markdown": [
       "\n",
       "Country Name | Country Code | Indicator Name | Indicator Code | 1960 | 1961 | 1962 | 1963 | 1964 | 1965 | ... | 2009 | 2010 | 2011 | 2012 | 2013 | 2014 | 2015 | 2016 | 2017 | X63 | \n",
       "|---|---|---|\n",
       "| Arab World                                                    | ARB                                                           | Adolescent fertility rate (births per 1,000 women ages 15-19) | SP.ADO.TFRT                                                   | 134.22361                                                     | 134.83863                                                     | 135.57090                                                     | 135.4446                                                      | 135.27490                                                     | 134.9472                                                      | ...                                                           | 50.10461                                                      | 49.90012                                                      | 49.72376                                                      | 49.53907                                                      | 49.11124                                                      | 48.64754                                                      | 48.11455                                                      | 47.44007                                                      | NA                                                            | NA                                                            | \n",
       "| Caribbean small states                                        | CSS                                                           | Adolescent fertility rate (births per 1,000 women ages 15-19) | SP.ADO.TFRT                                                   | 146.74378                                                     | 146.90023                                                     | 147.06916                                                     | 145.6199                                                      | 144.30854                                                     | 143.0531                                                      | ...                                                           | 61.54816                                                      | 60.28361                                                      | 58.97198                                                      | 57.57641                                                      | 56.43608                                                      | 55.25676                                                      | 54.05761                                                      | 52.80647                                                      | NA                                                            | NA                                                            | \n",
       "| Central Europe and the Baltics                                | CEB                                                           | Adolescent fertility rate (births per 1,000 women ages 15-19) | SP.ADO.TFRT                                                   |  46.09934                                                     |  45.42201                                                     |  44.70266                                                     |  44.9639                                                      |  45.19137                                                     |  45.4119                                                      | ...                                                           | 21.61264                                                      | 21.24941                                                      | 20.94254                                                      | 20.69047                                                      | 20.38378                                                      | 20.09069                                                      | 19.78258                                                      | 19.45588                                                      | NA                                                            | NA                                                            | \n",
       "\n",
       "\n"
      ],
      "text/plain": [
       "  Country Name                   Country Code\n",
       "1 Arab World                     ARB         \n",
       "2 Caribbean small states         CSS         \n",
       "3 Central Europe and the Baltics CEB         \n",
       "  Indicator Name                                                Indicator Code\n",
       "1 Adolescent fertility rate (births per 1,000 women ages 15-19) SP.ADO.TFRT   \n",
       "2 Adolescent fertility rate (births per 1,000 women ages 15-19) SP.ADO.TFRT   \n",
       "3 Adolescent fertility rate (births per 1,000 women ages 15-19) SP.ADO.TFRT   \n",
       "  1960      1961      1962      1963     1964      1965     ... 2009    \n",
       "1 134.22361 134.83863 135.57090 135.4446 135.27490 134.9472 ... 50.10461\n",
       "2 146.74378 146.90023 147.06916 145.6199 144.30854 143.0531 ... 61.54816\n",
       "3  46.09934  45.42201  44.70266  44.9639  45.19137  45.4119 ... 21.61264\n",
       "  2010     2011     2012     2013     2014     2015     2016     2017 X63\n",
       "1 49.90012 49.72376 49.53907 49.11124 48.64754 48.11455 47.44007 NA   NA \n",
       "2 60.28361 58.97198 57.57641 56.43608 55.25676 54.05761 52.80647 NA   NA \n",
       "3 21.24941 20.94254 20.69047 20.38378 20.09069 19.78258 19.45588 NA   NA "
      ]
     },
     "metadata": {},
     "output_type": "display_data"
    }
   ],
   "source": [
    "library(tidyverse)\n",
    "library(gridExtra)\n",
    "\n",
    "gender_data <- read_csv(\"Gender_StatsData.csv\")\n",
    "\n",
    "teen_fr <- filter(gender_data, `Indicator Code` == \"SP.ADO.TFRT\")\n",
    "rm(gender_data)\n",
    "head(teen_fr,3)"
   ]
  },
  {
   "cell_type": "markdown",
   "metadata": {},
   "source": [
    "## Sobre os dados\n",
    "\n",
    "Fonte: https://datacatalog.worldbank.org/dataset/gender-statistics\n",
    "\n",
    "Os dados referem-se ao período de 1960 a 2016. Uma análise mais detalhada demonstra que temos o indicador tanto para 194 países individualmente (de um total de 217), como para grupos de países, como \"mundo árabe\", \"Europa Central e Balcãs\".\n",
    "\n",
    "**ATENÇÃO:** Através do arquivo auxiliar \"Gender_StatsSeries-Time.csv\", vemos que a série temporal para o indicador SP.ADO.TFRT é construída por meio de interpolações de dados agregados. Nos anos terminados em 2 e 7, são inseridos dados relativos a um período anterior de 5 anos. Por exemplo, em 1997, foram incluídos dados referentes ao período 1990-1995. Para os anos que não terminam em 2 ou 7, o índice é uma interpolação!\n",
    "\n",
    "Os dados estão organizados com cada linha representando um país/região, com os anos organizados em colunas. Vamos alterar esta estrutura para facilitar a análise desejada."
   ]
  },
  {
   "cell_type": "markdown",
   "metadata": {},
   "source": [
    "## Visualizando dados em função do nível de renda dos países\n",
    "\n",
    "Inicialmente, vamos observar a evolução temporal da fertilidade adolescente agrupada em função do nível de renda dos países.\n",
    "\n",
    "Para tanto, usaremos `filter()` para extrair as linhas de interesse, e então `gather()` para criar uma coluna chave (key) para transpor anos em linhas. Os anos estão em formato *character (string)*, e para conveniência precisamos transformar em *numeric* (via `mutate()`).\n",
    "\n",
    "Depois deste processamento, teremos observações agrupadas em *grupo-ano*. Uma maneira alternativa de organizar as observações (linhas) seria simplesmente por *ano*."
   ]
  },
  {
   "cell_type": "code",
   "execution_count": 3,
   "metadata": {},
   "outputs": [],
   "source": [
    "bygroupyear <- filter(teen_fr, `Country Code` %in% c(\"BRA\",\"HIC\",\"MIC\",\"LIC\")) %>%\n",
    "            gather(key=Year, value=FertilityRate, `1960`:`2016`) %>%\n",
    "            select(Year, `Country Name`, `Country Code`, FertilityRate) %>%\n",
    "            mutate(Year = as.numeric(Year))\n",
    "\n",
    "# Se ao invés de GRUPO-ANO, quiser organizar apenas por ANO:\n",
    "byyear <- select(bygroupyear, Year, `Country Code`, FertilityRate) %>%\n",
    "        spread(`Country Code`, FertilityRate)"
   ]
  },
  {
   "cell_type": "code",
   "execution_count": 4,
   "metadata": {},
   "outputs": [],
   "source": [
    "# Opções de visualização gráfica\n",
    "options(repr.plot.width=6, repr.plot.height=3.5)\n",
    "tema <- theme(panel.background = element_rect(fill=\"grey96\"), panel.border = element_rect(fill=NA, color=\"grey50\"))"
   ]
  },
  {
   "cell_type": "code",
   "execution_count": 5,
   "metadata": {},
   "outputs": [
    {
     "data": {},
     "metadata": {},
     "output_type": "display_data"
    },
    {
     "data": {
      "image/png": "[encoded data removed]",
      "text/plain": [
       "plot without title"
      ]
     },
     "metadata": {},
     "output_type": "display_data"
    }
   ],
   "source": [
    "ggplot(bygroupyear, aes(x=Year, y=FertilityRate, group=`Country Code`, color=`Country Code`)) +\n",
    "  geom_line(size=1) +\n",
    "  scale_color_manual(values=c(\"green3\",\"royalblue\",\"salmon\",\"yellow4\")) +\n",
    "  scale_x_continuous(breaks=seq(1950,2020,10)) +\n",
    "  scale_y_continuous(name = \"Fertility Rate\", breaks=seq(0,150,30)) +\n",
    "  labs(title='Adolescent Fertility Rate by country income level over time') +\n",
    "  tema"
   ]
  },
  {
   "cell_type": "markdown",
   "metadata": {},
   "source": [
    "Observamos que a taxa de fertilidade adolescente tem decrescido nas últimas décadas, para todos os níveis de renda dos países: alta, média e baixa (HIC, MIC e LIC, respectivamente). Entretanto, para países de renda baixa (LIC), a diminuição no indicador passou a ser significativa apenas a partir de 1997. Atualmente as disparidades continuam muito elevadas. A fertilidade adolescente em países de baixa renda hoje se aproxima da realidade observada na década de 1960 nos países de renda média.\n",
    "\n",
    "Após 1997, queda contínua no índice de países de baixa renda. Ainda assim, longe do índice dos países de renda média. A diminuição do índice nos países de alta renda manteve um ritmo constante."
   ]
  },
  {
   "cell_type": "markdown",
   "metadata": {},
   "source": [
    "## Taxas de fertilidade adolescente no Brasil\n",
    "\n",
    "O Brasil é classificado como um país de renda média (MIC, pelo arquivo auxiliar \"Gender_StatsCountry.csv\"). Até os anos 80, a taxa de fertilidade adolescente no Brasil acompanhava a média deste grupo de países. A partir dos anos 1980, houve um \"descolamento\", com o Brasil não acompanhando o decréscimo médio dos outros países. Uma tendência clara de redução deste indicador surge apenas a partir de 1997.\n",
    "\n",
    "Para o seu nível de renda, o Brasil apresenta taxas bastante elevadas de gravidez na adolescência."
   ]
  },
  {
   "cell_type": "code",
   "execution_count": 6,
   "metadata": {},
   "outputs": [],
   "source": [
    "# Histogramas com países e posição do Brasil\n",
    "bycountry <- slice(teen_fr,-(1:46))\n",
    "histdata_twoyears <- select(bycountry, `Country Name`, `Country Code`, `1960`, `2010`)"
   ]
  },
  {
   "cell_type": "code",
   "execution_count": 7,
   "metadata": {},
   "outputs": [
    {
     "data": {},
     "metadata": {},
     "output_type": "display_data"
    },
    {
     "data": {
      "image/png": "[encoded data removed]",
      "text/plain": [
       "plot without title"
      ]
     },
     "metadata": {},
     "output_type": "display_data"
    }
   ],
   "source": [
    "ggplot(histdata_twoyears) +\n",
    "  geom_vline(aes(xintercept=68), color='lightblue3', size=0.9) +\n",
    "  geom_vline(aes(xintercept=90), color='salmon', size=0.9) +\n",
    "  annotate(\"text\", x=c(56,104), y=25, size=3.7, label=c(\"Brasil\\n2010\",\"Brasil\\n1960\"), color=c(\"blue\",\"salmon\")) +\n",
    "  geom_histogram(aes(`1960`, fill=\"Ano\"), na.rm=TRUE, binwidth=10, boundary=0, alpha=0.33) +\n",
    "  geom_histogram(aes(`2010`, fill=\"Ano2\"), na.rm=TRUE, binwidth=10, boundary=0, alpha=0.33) +\n",
    "  scale_fill_manual(name=c(\"Ano\",\"Ano2\"), values=c(\"red\",\"blue\"), labels=c(\"1960\",\"2010\")) +\n",
    "  scale_x_continuous(name = \"Taxa de fertilidade\", limits = c(0,250)) +\n",
    "  scale_y_continuous(name = \"Número de países\", limits = c(0,32), expand = c(0, 0)) +\n",
    "  labs(title = \"Distribuição da taxa de fertilidade adolescente entre os países\\n(1960 e 2010)\") +\n",
    "  tema"
   ]
  },
  {
   "cell_type": "markdown",
   "metadata": {},
   "source": [
    "O histograma acima mostra a distribuição da taxa de fertilidade adolescente nos 194 países que estão na base de dados do Banco Mundial.\n",
    "\n",
    "Em 1960 a fertilidade adolescente entre os países era mais dispersa, i.e. existia maior variação absoluta. Em 2010, observamos uma diminuição geral no indicador, além de maior aglomeração em valores menores.\n",
    "\n",
    "Novamente, observamos que apesar da diminuição das taxas de fertilidade adolescente no Brasil, esta foi uma diminuição tímida em um contexto global. Isto fica ainda mais claro quando investigamos a posição relativa do Brasil."
   ]
  },
  {
   "cell_type": "code",
   "execution_count": 8,
   "metadata": {},
   "outputs": [],
   "source": [
    "rank60 <- drop_na(histdata_twoyears) %>% arrange(`1960`) %>%    # sort by TFRT\n",
    "        mutate(\"BRA\"=if_else(`Country Code`==\"BRA\", \"yes\", \"no\"))\n",
    "rank60$`Country Name` <- factor(rank60$`Country Name`, levels = rank60$`Country Name`) # to retain order when plotting\n",
    "\n",
    "rank10 <- drop_na(histdata_twoyears) %>% arrange(`2010`) %>%\n",
    "        mutate(\"BRA\"=if_else(`Country Code`==\"BRA\", \"yes\", \"no\"))\n",
    "rank10$`Country Name` <- factor(rank10$`Country Name`, levels = rank10$`Country Name`)"
   ]
  },
  {
   "cell_type": "code",
   "execution_count": 9,
   "metadata": {},
   "outputs": [
    {
     "data": {
      "image/png": "[encoded data removed]",
      "text/plain": [
       "plot without title"
      ]
     },
     "metadata": {},
     "output_type": "display_data"
    }
   ],
   "source": [
    "plt1 <- ggplot(rank60[-(1:84),], aes(x=`Country Name`, y=`1960`, fill=`BRA`)) + \n",
    "        geom_col(width=1, alpha=0.9, show.legend=FALSE) + coord_flip() +\n",
    "        scale_x_discrete(name=\"Países\", breaks=NULL, labels=NULL) +\n",
    "        scale_y_continuous(name=\"Taxa de fertilidade adolescente\", limits=c(0,240), expand=c(0,0)) +\n",
    "        theme(panel.grid.major.y = element_blank()) +\n",
    "        annotate(\"text\", x=5, y=117, size=3, label=\"107-Brasil\", color=c(\"royalblue\")) +\n",
    "        labs(title = \"1960\")\n",
    "\n",
    "plt2 <- ggplot(rank10[-(1:84),], aes(x=`Country Name`, y=`2010`, fill=`BRA`)) + \n",
    "        geom_col(width=1, alpha=0.9, show.legend=FALSE) + coord_flip() +\n",
    "        scale_x_discrete(name=\"Países\", breaks=NULL, labels=NULL) +\n",
    "        scale_y_continuous(name=\"Taxa de fertilidade adolescente\", limits=c(0,240), expand=c(0,0)) +\n",
    "        theme(panel.grid.major.y = element_blank()) +\n",
    "        annotate(\"text\", x=53, y=95, size=3, label=\"58-Brasil\", color=c(\"royalblue\")) +\n",
    "        labs(title = \"2010\")\n",
    "\n",
    "grid.arrange(plt1, plt2, ncol=2)"
   ]
  },
  {
   "cell_type": "markdown",
   "metadata": {},
   "source": [
    "Os gráficos acima mostram os 110 países com maior incidência de gravidez na adolescência (com seus respectivos valores para a taxa de fertilidade).\n",
    "\n",
    "Em 1960, havia 106 países com taxas de fertilidade na adolescência superiores à brasileira. Em 2010, apenas 57.\n",
    "\n",
    "Nos últimos anos, a taxa de fertilidade total (número de filhos por mulher) no Brasil diminuiu consideravelmente. As taxas de fertilidade adolescente, no entanto, continuam bastante elevadas - característica de países subdesenvolvidos e de baixa renda que reflete as desigualdades presentes no Brasil. A gravidez na adolescência tem diversos potenciais nocivos, e tem prevalência na população mais pobre.\n",
    "https://www.ecodebate.com.br/2018/03/02/taxa-de-gravidez-adolescente-no-brasil-esta-acima-da-media-latino-americana-e-caribenha/"
   ]
  },
  {
   "cell_type": "markdown",
   "metadata": {},
   "source": [
    "### Referências Adicionais\n",
    "Esta análise foi inspirada por um exercício proposto no curso \"Data Analysis for Social Scientists\" oferecido no segundo semestre de 2018 pelo MIT na plataforma EdX (MITx - 14.310x)."
   ]
  }
 ],
 "metadata": {
  "kernelspec": {
   "display_name": "R",
   "language": "R",
   "name": "ir"
  },
  "language_info": {
   "codemirror_mode": "r",
   "file_extension": ".r",
   "mimetype": "text/x-r-source",
   "name": "R",
   "pygments_lexer": "r",
   "version": "3.4.3"
  }
 },
 "nbformat": 4,
 "nbformat_minor": 2
}
