{
 "cells": [
  {
   "cell_type": "markdown",
   "metadata": {},
   "source": [
    "# Variáveis Instrumentais\n",
    "\n",
    "Vamos explorar o uso de [variáveis instrumentais](https://en.wikipedia.org/wiki/Instrumental_variables_estimation) replicando alguns resultados apresentados no artigo de Joshua D. Angrist e William N. Evans, \"Children and Their Parents' Labor Supply: Evidence from Exogenous Variation in Family Size\", *The American Economic Review* Vol. 88, No. 3, 1998, pp. 450-477."
   ]
  },
  {
   "cell_type": "markdown",
   "metadata": {},
   "source": [
    "### O Estudo\n",
    "Angrist e Evans tiveram interesse em estudar o efeito do número de filhos na oferta de trabalho ([labor supply](https://en.wikipedia.org/wiki/Labour_supply)) das mães. Ou seja, a variável fertilidade pode impactar no número de horas que as mães podem (ou estão dispostas a) trabalhar, restringindo as mulheres no desenvolvimento de suas carreiras. De fato, diversas investigações mostram correlação negativa entre número de filhos e oferta de trabalho, mas a intrepretação desta correlação não é muito clara. Relações de causa e efeito são complicadas, pois há fortes indicios para acreditarmos que fertilidade e oferta de trabalho são [variáveis endógenas](https://en.wikipedia.org/wiki/Endogeneity_(econometrics%29). Maior número de filhos diminui oferta de trabalho, mas a situação de trabalho da mulher também tem efeitos no número de filhos. Portanto, a contribuição deste artigo foi a utilização de **variáveis instrumentais** para driblar este problema e estudar a *relação causal* entre fertilidade e oferta de trabalho.\n",
    "\n",
    "As variaveis instrumentais utilizadas foram:\n",
    "- **Dois primeiros filhos de mesmo sexo:**\n",
    "Os autores se apoiam em um fenômeno amplamente observado de que pais de irmãos de mesmo sexo são significativamente mais propensos a ter mais um filho. Como a definição do sexo dos dois primeiros filhos é aleatória, temos um bom instrumento para avaliar o impacto do terceiro filho.\n",
    "- **Gêmeos na segunda gravidez:**\n",
    "Como a ocorrência de gravidez múltipla também é aleatória, esta é uma variável instrumental possível para estudar o impacto do terceiro filho na oferta de trabalho das mães.\n",
    "\n",
    "Ambas as variáveis são boas pois além de aleatórias, não causam efeito direto na variável dependente que pretendemos analisar. Por exemplo, admitimos que relação causal existe apenas entre oferta de trabalho e terceiro filho, independentemente do sexo dos dois primeiros filhos ou de que o terceiro tenha vindo de uma gestação múltipla."
   ]
  },
  {
   "cell_type": "markdown",
   "metadata": {},
   "source": [
    "### Dados utilizados\n",
    "\n",
    "Os autores extraíram parte de seus dados do censo de 1980 dos EUA.\n",
    "\n",
    "Nós vamos utilizar os dados contidos em \"census80.csv\" que deriva do censo de 1980. Os dados são restritos às famílias com mães entre 21 e 35 anos, e que tem dois ou três filhos.\n",
    "\n",
    "O arquivo contém as seguintes variáveis:\n",
    "- workedm: se a mãe trabalha.\n",
    "- weeksm: número de semanas que a mãe trabalha.\n",
    "- whitem: mãe é branca.\n",
    "- blackm: mãe é negra.\n",
    "- hispm: mãe é hispânica.\n",
    "- othracem: mãe é de outra raça.\n",
    "- sex1st: sexo da primeiro filho (0 corresponde a masculino e 1 a feminino).\n",
    "- sex2nd: sexo do segundo filho (0 corresponde a masculino 1 a feminino).\n",
    "- ageq2nd: idade em trimestres (quarters) do segundo filho.\n",
    "- ageq3rd: idade em trimestres (quarters) do terceiro filho.\n",
    "- numberkids: número de crianças na família."
   ]
  },
  {
   "cell_type": "code",
   "execution_count": 2,
   "metadata": {},
   "outputs": [
    {
     "name": "stderr",
     "output_type": "stream",
     "text": [
      "Parsed with column specification:\n",
      "cols(\n",
      "  workedm = col_integer(),\n",
      "  weeksm = col_integer(),\n",
      "  whitem = col_integer(),\n",
      "  blackm = col_integer(),\n",
      "  hispm = col_integer(),\n",
      "  othracem = col_integer(),\n",
      "  sex1st = col_integer(),\n",
      "  sex2nd = col_integer(),\n",
      "  ageq2nd = col_integer(),\n",
      "  ageq3rd = col_integer(),\n",
      "  numberkids = col_integer()\n",
      ")\n"
     ]
    },
    {
     "data": {
      "text/html": [
       "<table>\n",
       "<thead><tr><th scope=col>workedm</th><th scope=col>weeksm</th><th scope=col>whitem</th><th scope=col>blackm</th><th scope=col>hispm</th><th scope=col>othracem</th><th scope=col>sex1st</th><th scope=col>sex2nd</th><th scope=col>ageq2nd</th><th scope=col>ageq3rd</th><th scope=col>numberkids</th></tr></thead>\n",
       "<tbody>\n",
       "\t<tr><td>0 </td><td> 0</td><td>1 </td><td>0 </td><td>0 </td><td>0 </td><td>0 </td><td>1 </td><td>30</td><td>NA</td><td>2 </td></tr>\n",
       "\t<tr><td>1 </td><td>52</td><td>1 </td><td>0 </td><td>0 </td><td>0 </td><td>0 </td><td>1 </td><td> 9</td><td>NA</td><td>2 </td></tr>\n",
       "\t<tr><td>1 </td><td>30</td><td>1 </td><td>0 </td><td>0 </td><td>0 </td><td>1 </td><td>0 </td><td>22</td><td>NA</td><td>2 </td></tr>\n",
       "\t<tr><td>0 </td><td> 0</td><td>1 </td><td>0 </td><td>0 </td><td>0 </td><td>0 </td><td>1 </td><td>12</td><td>NA</td><td>2 </td></tr>\n",
       "\t<tr><td>0 </td><td> 0</td><td>0 </td><td>1 </td><td>0 </td><td>0 </td><td>0 </td><td>1 </td><td>14</td><td>NA</td><td>2 </td></tr>\n",
       "\t<tr><td>0 </td><td> 0</td><td>1 </td><td>0 </td><td>0 </td><td>0 </td><td>0 </td><td>0 </td><td>50</td><td>48</td><td>3 </td></tr>\n",
       "</tbody>\n",
       "</table>\n"
      ],
      "text/latex": [
       "\\begin{tabular}{r|lllllllllll}\n",
       " workedm & weeksm & whitem & blackm & hispm & othracem & sex1st & sex2nd & ageq2nd & ageq3rd & numberkids\\\\\n",
       "\\hline\n",
       "\t 0  &  0 & 1  & 0  & 0  & 0  & 0  & 1  & 30 & NA & 2 \\\\\n",
       "\t 1  & 52 & 1  & 0  & 0  & 0  & 0  & 1  &  9 & NA & 2 \\\\\n",
       "\t 1  & 30 & 1  & 0  & 0  & 0  & 1  & 0  & 22 & NA & 2 \\\\\n",
       "\t 0  &  0 & 1  & 0  & 0  & 0  & 0  & 1  & 12 & NA & 2 \\\\\n",
       "\t 0  &  0 & 0  & 1  & 0  & 0  & 0  & 1  & 14 & NA & 2 \\\\\n",
       "\t 0  &  0 & 1  & 0  & 0  & 0  & 0  & 0  & 50 & 48 & 3 \\\\\n",
       "\\end{tabular}\n"
      ],
      "text/markdown": [
       "\n",
       "workedm | weeksm | whitem | blackm | hispm | othracem | sex1st | sex2nd | ageq2nd | ageq3rd | numberkids | \n",
       "|---|---|---|---|---|---|\n",
       "| 0  |  0 | 1  | 0  | 0  | 0  | 0  | 1  | 30 | NA | 2  | \n",
       "| 1  | 52 | 1  | 0  | 0  | 0  | 0  | 1  |  9 | NA | 2  | \n",
       "| 1  | 30 | 1  | 0  | 0  | 0  | 1  | 0  | 22 | NA | 2  | \n",
       "| 0  |  0 | 1  | 0  | 0  | 0  | 0  | 1  | 12 | NA | 2  | \n",
       "| 0  |  0 | 0  | 1  | 0  | 0  | 0  | 1  | 14 | NA | 2  | \n",
       "| 0  |  0 | 1  | 0  | 0  | 0  | 0  | 0  | 50 | 48 | 3  | \n",
       "\n",
       "\n"
      ],
      "text/plain": [
       "  workedm weeksm whitem blackm hispm othracem sex1st sex2nd ageq2nd ageq3rd\n",
       "1 0        0     1      0      0     0        0      1      30      NA     \n",
       "2 1       52     1      0      0     0        0      1       9      NA     \n",
       "3 1       30     1      0      0     0        1      0      22      NA     \n",
       "4 0        0     1      0      0     0        0      1      12      NA     \n",
       "5 0        0     0      1      0     0        0      1      14      NA     \n",
       "6 0        0     1      0      0     0        0      0      50      48     \n",
       "  numberkids\n",
       "1 2         \n",
       "2 2         \n",
       "3 2         \n",
       "4 2         \n",
       "5 2         \n",
       "6 3         "
      ]
     },
     "metadata": {},
     "output_type": "display_data"
    }
   ],
   "source": [
    "library(tidyverse)\n",
    "library(AER)\n",
    "\n",
    "df <- read_csv(\"census80.csv\")\n",
    "\n",
    "head(df)"
   ]
  },
  {
   "cell_type": "code",
   "execution_count": 3,
   "metadata": {},
   "outputs": [
    {
     "data": {
      "text/plain": [
       "    workedm           weeksm          whitem           blackm      \n",
       " Min.   :0.0000   Min.   : 0.00   Min.   :0.0000   Min.   :0.0000  \n",
       " 1st Qu.:0.0000   1st Qu.: 0.00   1st Qu.:1.0000   1st Qu.:0.0000  \n",
       " Median :1.0000   Median :12.00   Median :1.0000   Median :0.0000  \n",
       " Mean   :0.5716   Mean   :20.82   Mean   :0.8314   Mean   :0.1125  \n",
       " 3rd Qu.:1.0000   3rd Qu.:48.00   3rd Qu.:1.0000   3rd Qu.:0.0000  \n",
       " Max.   :1.0000   Max.   :52.00   Max.   :1.0000   Max.   :1.0000  \n",
       "                                                                   \n",
       "     hispm            othracem           sex1st           sex2nd      \n",
       " Min.   :0.00000   Min.   :0.00000   Min.   :0.0000   Min.   :0.0000  \n",
       " 1st Qu.:0.00000   1st Qu.:0.00000   1st Qu.:0.0000   1st Qu.:0.0000  \n",
       " Median :0.00000   Median :0.00000   Median :0.0000   Median :0.0000  \n",
       " Mean   :0.02725   Mean   :0.02886   Mean   :0.4871   Mean   :0.4881  \n",
       " 3rd Qu.:0.00000   3rd Qu.:0.00000   3rd Qu.:1.0000   3rd Qu.:1.0000  \n",
       " Max.   :1.00000   Max.   :1.00000   Max.   :1.0000   Max.   :1.0000  \n",
       "                                                                      \n",
       "    ageq2nd         ageq3rd         numberkids   \n",
       " Min.   : 0.00   Min.   : 0.00    Min.   :2.000  \n",
       " 1st Qu.: 9.00   1st Qu.: 5.00    1st Qu.:2.000  \n",
       " Median :19.00   Median :13.00    Median :2.000  \n",
       " Mean   :21.75   Mean   :16.59    Mean   :2.286  \n",
       " 3rd Qu.:33.00   3rd Qu.:26.00    3rd Qu.:3.000  \n",
       " Max.   :71.00   Max.   :67.00    Max.   :3.000  \n",
       "                 NA's   :305132                  "
      ]
     },
     "metadata": {},
     "output_type": "display_data"
    }
   ],
   "source": [
    "summary(df)"
   ]
  },
  {
   "cell_type": "markdown",
   "metadata": {},
   "source": [
    "Na amostra utilizada, contendo 427418 famílias, vemos que 57% das mães trabalham e 29% tem três filhos. Como esperado, os sexos dos filhos estão igualmente representados (49% mulheres).\n",
    "\n",
    "A partir destes dados, vamos criar mais três variáveis indicadoras (*dummys*):\n",
    "- multiple: variável indicadora para segunda gravidez múltipla (constatada se ageq2nd = ageq3rd)\n",
    "- samesex: variável indicadora para dois primeiros filhos de mesmo sexo (constatado se sex1st = sex2nd)\n",
    "- threekids: variável indicadora para três filhos (constatado se numberkids = 3)\n",
    "\n",
    "\"threekids\" é o regressor em que estamos interessados, i.e. o fato de a família mudar de *dois* para *três* filhos.\n",
    "\n",
    "As **variáveis instrumentais** \"multiple\" e \"samesex\" serão utilizadas para avaliar o impacto de \"threekids\"."
   ]
  },
  {
   "cell_type": "code",
   "execution_count": 4,
   "metadata": {},
   "outputs": [
    {
     "data": {
      "text/plain": [
       "    multiple          samesex         threekids     \n",
       " Min.   :0.00000   Min.   :0.0000   Min.   :0.0000  \n",
       " 1st Qu.:0.00000   1st Qu.:0.0000   1st Qu.:0.0000  \n",
       " Median :0.00000   Median :1.0000   Median :0.0000  \n",
       " Mean   :0.00729   Mean   :0.5019   Mean   :0.2861  \n",
       " 3rd Qu.:0.00000   3rd Qu.:1.0000   3rd Qu.:1.0000  \n",
       " Max.   :1.00000   Max.   :1.0000   Max.   :1.0000  "
      ]
     },
     "metadata": {},
     "output_type": "display_data"
    }
   ],
   "source": [
    "df <- mutate(df, multiple = if_else(ageq2nd == ageq3rd, 1, 0, missing = 0)) %>%\n",
    "  mutate(samesex = if_else(sex1st == sex2nd, 1, 0)) %>%\n",
    "  mutate(threekids = if_else(numberkids == 3, 1, 0))\n",
    "\n",
    "summary(df[12:14])"
   ]
  },
  {
   "cell_type": "markdown",
   "metadata": {},
   "source": [
    "Na amostra avaliada, composta por mães com dois ou três filhos, 0,7% tiveram uma segunda gravidez múltipla (gêmeos).\n",
    "\n",
    "O resultado obtido (~50%) para a proporção de famílias com primeiro e segundo filho com mesmo sexo é o esperado em uma amostra aleatória. Isto porque a probabilidade do segundo filho ter determinado sexo *independe* do sexo do primeiro filho. Representando os resultados possíveis em relação ao sexo com $\\{$*sexo do 1º filho, sexo do 2º filho*$\\}$ o espaço amostral é dado por $\\{\\{M,M\\},\\{M,F\\},\\{F,M\\},\\{F,F\\}\\}$, e temos:\n",
    "$$P(\\{M,M\\}\\cup\\{F,F\\})=P(\\{M,M\\})+P(\\{F,F\\})=P(M)\\cdot P(M)+P(F)\\cdot P(F)=\\frac{1}{2}\\cdot\\frac{1}{2}+\\frac{1}{2}\\cdot\\frac{1}{2}=\\frac{1}{2}$$\n",
    "ou seja, a probabilidade da mãe ter dois filhos de mesmo sexo é de 50%."
   ]
  },
  {
   "cell_type": "markdown",
   "metadata": {},
   "source": [
    "### First Stage Regression\n",
    "Para que uma variável instrumental possa ser utilizada, alguma correlação deve existir com a variável explicativa (*explanatory variable, regressor*) de interesse. Para observar a relação entre \"samesex\" e \"threekids\", faremos uma regressão de primeiro estágio:\n",
    "\n",
    "$$threekids = \\beta_{0} + \\beta_{1} samesex + \\epsilon$$\n",
    "\n",
    "Em seguida, vamos avaliar um modelo que leva em conta possíveis diferenças devido a raça da mãe como efeito fixo. Ou seja, teremos  uma regressão multivariável, mas considerando que as diferenças entre raças são apenas ajustes na \"linha base\", e o efeito do tratamento ($\\beta_1$) é fixo para as categorias.\n",
    "\n",
    "$$threekids = \\beta_{0} + \\beta_{1} samesex + \\beta_{2} blackm + \\beta_{3} hispm + \\beta_{4} othracem + \\epsilon$$"
   ]
  },
  {
   "cell_type": "code",
   "execution_count": 5,
   "metadata": {},
   "outputs": [
    {
     "data": {
      "text/plain": [
       "\n",
       "Call:\n",
       "lm(formula = threekids ~ samesex, data = df)\n",
       "\n",
       "Residuals:\n",
       "    Min      1Q  Median      3Q     Max \n",
       "-0.3105 -0.3105 -0.2615  0.6895  0.7385 \n",
       "\n",
       "Coefficients:\n",
       "            Estimate Std. Error t value Pr(>|t|)    \n",
       "(Intercept) 0.261518   0.000978  267.40   <2e-16 ***\n",
       "samesex     0.048991   0.001380   35.49   <2e-16 ***\n",
       "---\n",
       "Signif. codes:  0 '***' 0.001 '**' 0.01 '*' 0.05 '.' 0.1 ' ' 1\n",
       "\n",
       "Residual standard error: 0.4513 on 427416 degrees of freedom\n",
       "Multiple R-squared:  0.002938,\tAdjusted R-squared:  0.002935 \n",
       "F-statistic:  1259 on 1 and 427416 DF,  p-value: < 2.2e-16\n"
      ]
     },
     "metadata": {},
     "output_type": "display_data"
    }
   ],
   "source": [
    "fsr0 <- lm(threekids ~ samesex, df)\n",
    "summary(fsr0)"
   ]
  },
  {
   "cell_type": "markdown",
   "metadata": {},
   "source": [
    "Tomando a amostra como um todo, 26% das mães com dois filhos de sexos diferentes tiveram um terceiro filho ($\\beta_{0}$). Esta porcentagem passa para 31% quando os dois primeiros filhos são de mesmo sexo ($\\beta_{0}+\\beta_{1}$). Há diferença significativa. Isto confirma este fenômeno já reportado, e mostra que é possível utilizar \"samesex\" como variável instrumental. "
   ]
  },
  {
   "cell_type": "code",
   "execution_count": 6,
   "metadata": {},
   "outputs": [
    {
     "data": {
      "text/plain": [
       "\n",
       "t test of coefficients:\n",
       "\n",
       "             Estimate Std. Error  t value  Pr(>|t|)    \n",
       "(Intercept) 0.2515354  0.0010249 245.4174 < 2.2e-16 ***\n",
       "samesex     0.0490182  0.0013786  35.5567 < 2.2e-16 ***\n",
       "blackm      0.0659541  0.0021899  30.1171 < 2.2e-16 ***\n",
       "hispm       0.0817364  0.0042432  19.2631 < 2.2e-16 ***\n",
       "othracem    0.0111834  0.0041273   2.7096  0.006737 ** \n",
       "---\n",
       "Signif. codes:  0 '***' 0.001 '**' 0.01 '*' 0.05 '.' 0.1 ' ' 1\n"
      ]
     },
     "metadata": {},
     "output_type": "display_data"
    }
   ],
   "source": [
    "# Regressão multivariável de primeiro estágio\n",
    "fsr1 <- lm(threekids ~ samesex + blackm + hispm + othracem, df)\n",
    "coeftest(fsr1)"
   ]
  },
  {
   "cell_type": "markdown",
   "metadata": {},
   "source": [
    "Dois primeiros filhos de mesmo sexo aumentam a probabilidade de um terceiro em 4.9 pontos percentuais."
   ]
  },
  {
   "cell_type": "code",
   "execution_count": 7,
   "metadata": {},
   "outputs": [
    {
     "data": {
      "text/plain": [
       "\n",
       "t test of coefficients:\n",
       "\n",
       "             Estimate Std. Error  t value  Pr(>|t|)    \n",
       "(Intercept) 0.2710109  0.0007523 360.2415 < 2.2e-16 ***\n",
       "multiple    0.7179404  0.0080400  89.2965 < 2.2e-16 ***\n",
       "blackm      0.0648870  0.0021730  29.8603 < 2.2e-16 ***\n",
       "hispm       0.0817475  0.0042103  19.4159 < 2.2e-16 ***\n",
       "othracem    0.0115414  0.0040954   2.8181  0.004831 ** \n",
       "---\n",
       "Signif. codes:  0 '***' 0.001 '**' 0.01 '*' 0.05 '.' 0.1 ' ' 1\n"
      ]
     },
     "metadata": {},
     "output_type": "display_data"
    }
   ],
   "source": [
    "# Regressão multivariável de primeiro estágio, desta vez verificano o impacto de \"multiple\"\n",
    "fsr2 <- lm(threekids ~ multiple + blackm + hispm + othracem, df)\n",
    "coeftest(fsr2)"
   ]
  },
  {
   "cell_type": "markdown",
   "metadata": {},
   "source": [
    "Para confirmar o óbvio impacto da gravidez múltipla no número de filhos, também realizamos uma regressão de primeiro estágio (fsr2). A proporção de três filhos nas mães com segunda gravidez múltipla obviamente é de 100%. Observando as estimativas da regressão, observamos alguns desvios, que ocorrem devido ao modelo \"fixed effects\" utilizado."
   ]
  },
  {
   "cell_type": "markdown",
   "metadata": {},
   "source": [
    "### Two Stage Least Squares Regression\n",
    "\n",
    "A análise do efeito causal do terceiro filho na oferta de trabalho das mães prosseguirá utilizando o método de regressão de mínimos quadrados em dois estágios (two stage least squares). Intuitivamente, podemos entender o processo como se fossem dois estágios sequenciais:\n",
    "\n",
    "- First Stage:  $3kids = \\pi_{0} + \\pi_{1}samesex + \\omega$\n",
    "\n",
    "- Second Stage:  $laborsupply = \\beta_{0} + \\beta_{1} \\widehat{3kids} + \\epsilon$\n",
    "\n",
    "Os valores estimados no primeiro estágio ($\\widehat{3kids}$) são introduzidos como variável explicativa no segundo estágio, e então $\\hat{\\beta_1}$ será a estimativa da relação causal entre \"threekids\" e \"laborsupply\".\n",
    "\n",
    "Na prática, o tratamento é um pouco diferente para que as incertezas e variâncias sejam calculadas corretamente (cf. https://en.wikipedia.org/wiki/Instrumental_variables_estimation)."
   ]
  },
  {
   "cell_type": "markdown",
   "metadata": {},
   "source": [
    "#### A) Utilizando \"samesex\" como instrumento"
   ]
  },
  {
   "cell_type": "code",
   "execution_count": 8,
   "metadata": {},
   "outputs": [
    {
     "data": {
      "text/plain": [
       "\n",
       "t test of coefficients:\n",
       "\n",
       "              Estimate Std. Error t value  Pr(>|t|)    \n",
       "(Intercept)  0.5857831  0.0085169 68.7792 < 2.2e-16 ***\n",
       "threekids   -0.0982205  0.0306970 -3.1997  0.001376 ** \n",
       "blackm       0.1282025  0.0031330 40.9201 < 2.2e-16 ***\n",
       "hispm       -0.0327583  0.0052636 -6.2235 4.865e-10 ***\n",
       "othracem     0.0147760  0.0045175  3.2708  0.001073 ** \n",
       "---\n",
       "Signif. codes:  0 '***' 0.001 '**' 0.01 '*' 0.05 '.' 0.1 ' ' 1\n"
      ]
     },
     "metadata": {},
     "output_type": "display_data"
    }
   ],
   "source": [
    "ivr1 <- ivreg(workedm ~ threekids + blackm + hispm + othracem\n",
    "              | samesex + blackm + hispm + othracem, data = df)\n",
    "coeftest(ivr1)"
   ]
  },
  {
   "cell_type": "code",
   "execution_count": 9,
   "metadata": {},
   "outputs": [
    {
     "data": {
      "text/plain": [
       "\n",
       "t test of coefficients:\n",
       "\n",
       "            Estimate Std. Error t value  Pr(>|t|)    \n",
       "(Intercept) 21.42394    0.38029 56.3359 < 2.2e-16 ***\n",
       "threekids   -4.99430    1.37066 -3.6437 0.0002688 ***\n",
       "blackm       7.18208    0.13989 51.3400 < 2.2e-16 ***\n",
       "hispm       -1.32648    0.23503 -5.6440 1.663e-08 ***\n",
       "othracem     1.70933    0.20171  8.4740 < 2.2e-16 ***\n",
       "---\n",
       "Signif. codes:  0 '***' 0.001 '**' 0.01 '*' 0.05 '.' 0.1 ' ' 1\n"
      ]
     },
     "metadata": {},
     "output_type": "display_data"
    }
   ],
   "source": [
    "ivr2 <- ivreg(weeksm ~ threekids + blackm + hispm + othracem\n",
    "              | samesex + blackm + hispm + othracem, data = df)\n",
    "coeftest(ivr2)"
   ]
  },
  {
   "cell_type": "markdown",
   "metadata": {},
   "source": [
    "#### B) Utilizando \"multiple\" como instrumento"
   ]
  },
  {
   "cell_type": "code",
   "execution_count": 10,
   "metadata": {},
   "outputs": [
    {
     "data": {
      "text/plain": [
       "\n",
       "t test of coefficients:\n",
       "\n",
       "              Estimate Std. Error  t value  Pr(>|t|)    \n",
       "(Intercept)  0.5763680  0.0035006 164.6495 < 2.2e-16 ***\n",
       "threekids   -0.0641256  0.0123194  -5.2053 1.938e-07 ***\n",
       "blackm       0.1259529  0.0025249  49.8849 < 2.2e-16 ***\n",
       "hispm       -0.0355364  0.0047392  -7.4984 6.474e-14 ***\n",
       "othracem     0.0144008  0.0045073   3.1950  0.001398 ** \n",
       "---\n",
       "Signif. codes:  0 '***' 0.001 '**' 0.01 '*' 0.05 '.' 0.1 ' ' 1\n"
      ]
     },
     "metadata": {},
     "output_type": "display_data"
    }
   ],
   "source": [
    "ivr3 <- ivreg(workedm ~ threekids + blackm + hispm + othracem\n",
    "              | multiple + blackm + hispm + othracem, data = df)\n",
    "coeftest(ivr3)"
   ]
  },
  {
   "cell_type": "code",
   "execution_count": 11,
   "metadata": {},
   "outputs": [
    {
     "data": {
      "text/plain": [
       "\n",
       "t test of coefficients:\n",
       "\n",
       "            Estimate Std. Error  t value  Pr(>|t|)    \n",
       "(Intercept) 20.91123    0.15628 133.8082 < 2.2e-16 ***\n",
       "threekids   -3.13765    0.54998  -5.7050 1.164e-08 ***\n",
       "blackm       7.05958    0.11272  62.6299 < 2.2e-16 ***\n",
       "hispm       -1.47777    0.21157  -6.9846 2.861e-12 ***\n",
       "othracem     1.68889    0.20122   8.3932 < 2.2e-16 ***\n",
       "---\n",
       "Signif. codes:  0 '***' 0.001 '**' 0.01 '*' 0.05 '.' 0.1 ' ' 1\n"
      ]
     },
     "metadata": {},
     "output_type": "display_data"
    }
   ],
   "source": [
    "ivr4 <- ivreg(weeksm ~ threekids + blackm + hispm + othracem\n",
    "              | multiple + blackm + hispm + othracem, data = df)\n",
    "coeftest(ivr4)"
   ]
  },
  {
   "cell_type": "markdown",
   "metadata": {},
   "source": [
    "### Interpretação dos Resultados\n",
    "\n",
    "Avaliando através de *\"samesex\"*, o terceiro filho causa uma diminuição de 10 pontos percentuais na proporção de mães que trabalham, e uma diminuição média de 5.0 semanas de trabalho.\n",
    "\n",
    "Através de *\"multiple\"*, observamos que o terceiro filho causa uma diminuição de 6 pontos percentuais na proporção de mães que trabalham, e uma diminuição média de 3.1 semanas de trabalho.\n",
    "\n",
    "Quando consideramos os erros padrão e intervalos de confiança razoáveis, vemos que a discrepância não é muito acentuada.\n",
    "\n",
    "Entretanto, é importante notar que estamos lidando com um efeito **local**. A estimativa é o efeito médio local do tratamento (*local average treatment effect*). Ou seja, por meio de variáveis instrumentais estamos avaliando o efeito médio na oferta de trabalho devido ao terceiro filho concebido em função de: a) se ter irmãos de mesmo sexo ou b) a mãe ter uma segunda gravidez múltipla.\n",
    "\n",
    "Em outras palavras, usando \"samesex\" avaliamos o efeito causal do terceiro filho na oferta de trabalho para mães cuja fertilidade foi afetada por terem dois primeiros filhos de mesmo sexo.\n",
    "Já as estimativas via variável instrumental \"multiple\" refletem o efeito do terceiro filho na oferta de trabalho para aquelas mães que tiveram mais filhos devido a gravidez múltipla do que elas teriam de outra forma.\n",
    "Deste modo, os instrumentos não necessariamente identificam os mesmos efeitos médios!"
   ]
  },
  {
   "cell_type": "markdown",
   "metadata": {},
   "source": [
    "Angrist e Evans relatam que, como a probabilidade de gravidez de gêmeos não é exatamente igual entre grupos de mulheres, o uso da segunda gravidez múltipla pode gerar algumas distorções demográficas, por exemplo selecionando mulheres mais velhas (embora o efeito seja pequeno).\n",
    "\n",
    "Além disso, dada a idade do segundo filho, os terceiros filhos nascidos de gravidez múltipla serão necessariamente mais velhos do que filhos nascidos em gravidez única, e a idade dos filhos tem impacto na oferta de trabalho das mães. Angrist e Evans analisam em maiores detalhes o efeito desta diferença de idade média dos filhos em função do instrumento utilizado, e demonstram que considerando este aspecto, as estimativas derivadas de \"samesex\" se aproximam das estimativas obtidas por meio de \"multiple\"."
   ]
  },
  {
   "cell_type": "markdown",
   "metadata": {},
   "source": [
    "### Referências\n",
    "- Joshua D. Angrist e William N. Evans, \"Children and Their Parents' Labor Supply: Evidence from Exogenous Variation in Family Size\", *The American Economic Review* Vol. 88, No. 3, 1998, pp. 450-477.\n",
    "\n",
    "Esta análise foi baseada em um exercício proposto no curso \"Data Analysis for Social Scientists\" oferecido no segundo semestre de 2018 pelo MIT na plataforma EdX (MITx - 14.310x)."
   ]
  }
 ],
 "metadata": {
  "kernelspec": {
   "display_name": "R",
   "language": "R",
   "name": "ir"
  },
  "language_info": {
   "codemirror_mode": "r",
   "file_extension": ".r",
   "mimetype": "text/x-r-source",
   "name": "R",
   "pygments_lexer": "r",
   "version": "3.4.3"
  }
 },
 "nbformat": 4,
 "nbformat_minor": 2
}
